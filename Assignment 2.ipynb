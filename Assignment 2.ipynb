{
 "cells": [
  {
   "cell_type": "code",
   "execution_count": 10,
   "metadata": {},
   "outputs": [
    {
     "name": "stdout",
     "output_type": "stream",
     "text": [
      "The autoreload extension is already loaded. To reload it, use:\n",
      "  %reload_ext autoreload\n"
     ]
    }
   ],
   "source": [
    "%load_ext autoreload\n",
    "%autoreload 2\n",
    "import pandas as pd\n",
    "import matplotlib.pyplot as plt\n",
    "import numpy as np\n",
    "from scipy.stats import norm\n",
    "import analysis_kit as ak"
   ]
  },
  {
   "cell_type": "code",
   "execution_count": null,
   "metadata": {},
   "outputs": [],
   "source": []
  },
  {
   "cell_type": "markdown",
   "metadata": {},
   "source": [
    "##### Use the EDHEC Hedge Fund Indices data set that we used in the lab assignment as well as in the previous week’s assignments. Load them into Python and perform the following analysis based on data since 2000 (including all of 2000): What was the Monthly Parametric Gaussian VaR at the 1% level (as a +ve number) of the Distressed Securities strategy?"
   ]
  },
  {
   "cell_type": "code",
   "execution_count": 16,
   "metadata": {},
   "outputs": [
    {
     "data": {
      "text/html": [
       "<div>\n",
       "<style scoped>\n",
       "    .dataframe tbody tr th:only-of-type {\n",
       "        vertical-align: middle;\n",
       "    }\n",
       "\n",
       "    .dataframe tbody tr th {\n",
       "        vertical-align: top;\n",
       "    }\n",
       "\n",
       "    .dataframe thead th {\n",
       "        text-align: right;\n",
       "    }\n",
       "</style>\n",
       "<table border=\"1\" class=\"dataframe\">\n",
       "  <thead>\n",
       "    <tr style=\"text-align: right;\">\n",
       "      <th></th>\n",
       "      <th>Convertible Arbitrage</th>\n",
       "      <th>CTA Global</th>\n",
       "      <th>Distressed Securities</th>\n",
       "      <th>Emerging Markets</th>\n",
       "      <th>Equity Market Neutral</th>\n",
       "      <th>Event Driven</th>\n",
       "      <th>Fixed Income Arbitrage</th>\n",
       "      <th>Global Macro</th>\n",
       "      <th>Long/Short Equity</th>\n",
       "      <th>Merger Arbitrage</th>\n",
       "      <th>Relative Value</th>\n",
       "      <th>Short Selling</th>\n",
       "      <th>Funds Of Funds</th>\n",
       "    </tr>\n",
       "    <tr>\n",
       "      <th>date</th>\n",
       "      <th></th>\n",
       "      <th></th>\n",
       "      <th></th>\n",
       "      <th></th>\n",
       "      <th></th>\n",
       "      <th></th>\n",
       "      <th></th>\n",
       "      <th></th>\n",
       "      <th></th>\n",
       "      <th></th>\n",
       "      <th></th>\n",
       "      <th></th>\n",
       "      <th></th>\n",
       "    </tr>\n",
       "  </thead>\n",
       "  <tbody>\n",
       "    <tr>\n",
       "      <th>2000-01</th>\n",
       "      <td>0.0227</td>\n",
       "      <td>0.0128</td>\n",
       "      <td>0.0088</td>\n",
       "      <td>0.0077</td>\n",
       "      <td>0.0075</td>\n",
       "      <td>0.0088</td>\n",
       "      <td>0.0041</td>\n",
       "      <td>0.0021</td>\n",
       "      <td>0.0075</td>\n",
       "      <td>0.0143</td>\n",
       "      <td>0.0173</td>\n",
       "      <td>0.0427</td>\n",
       "      <td>0.0169</td>\n",
       "    </tr>\n",
       "    <tr>\n",
       "      <th>2000-02</th>\n",
       "      <td>0.0267</td>\n",
       "      <td>-0.0022</td>\n",
       "      <td>0.0421</td>\n",
       "      <td>0.0528</td>\n",
       "      <td>0.0253</td>\n",
       "      <td>0.0346</td>\n",
       "      <td>0.0097</td>\n",
       "      <td>0.0408</td>\n",
       "      <td>0.0699</td>\n",
       "      <td>0.0239</td>\n",
       "      <td>0.0185</td>\n",
       "      <td>-0.1340</td>\n",
       "      <td>0.0666</td>\n",
       "    </tr>\n",
       "    <tr>\n",
       "      <th>2000-03</th>\n",
       "      <td>0.0243</td>\n",
       "      <td>-0.0138</td>\n",
       "      <td>0.0103</td>\n",
       "      <td>0.0318</td>\n",
       "      <td>0.0134</td>\n",
       "      <td>0.0069</td>\n",
       "      <td>-0.0061</td>\n",
       "      <td>-0.0104</td>\n",
       "      <td>0.0006</td>\n",
       "      <td>0.0131</td>\n",
       "      <td>0.0163</td>\n",
       "      <td>-0.0230</td>\n",
       "      <td>0.0039</td>\n",
       "    </tr>\n",
       "    <tr>\n",
       "      <th>2000-04</th>\n",
       "      <td>0.0223</td>\n",
       "      <td>-0.0241</td>\n",
       "      <td>-0.0101</td>\n",
       "      <td>-0.0541</td>\n",
       "      <td>0.0168</td>\n",
       "      <td>-0.0059</td>\n",
       "      <td>-0.0006</td>\n",
       "      <td>-0.0304</td>\n",
       "      <td>-0.0201</td>\n",
       "      <td>0.0188</td>\n",
       "      <td>0.0092</td>\n",
       "      <td>0.1028</td>\n",
       "      <td>-0.0269</td>\n",
       "    </tr>\n",
       "    <tr>\n",
       "      <th>2000-05</th>\n",
       "      <td>0.0149</td>\n",
       "      <td>0.0114</td>\n",
       "      <td>-0.0132</td>\n",
       "      <td>-0.0433</td>\n",
       "      <td>0.0062</td>\n",
       "      <td>-0.0034</td>\n",
       "      <td>0.0107</td>\n",
       "      <td>-0.0070</td>\n",
       "      <td>-0.0097</td>\n",
       "      <td>0.0146</td>\n",
       "      <td>0.0080</td>\n",
       "      <td>0.0704</td>\n",
       "      <td>-0.0122</td>\n",
       "    </tr>\n",
       "  </tbody>\n",
       "</table>\n",
       "</div>"
      ],
      "text/plain": [
       "         Convertible Arbitrage  CTA Global  Distressed Securities  \\\n",
       "date                                                                \n",
       "2000-01                 0.0227      0.0128                 0.0088   \n",
       "2000-02                 0.0267     -0.0022                 0.0421   \n",
       "2000-03                 0.0243     -0.0138                 0.0103   \n",
       "2000-04                 0.0223     -0.0241                -0.0101   \n",
       "2000-05                 0.0149      0.0114                -0.0132   \n",
       "\n",
       "         Emerging Markets  Equity Market Neutral  Event Driven  \\\n",
       "date                                                             \n",
       "2000-01            0.0077                 0.0075        0.0088   \n",
       "2000-02            0.0528                 0.0253        0.0346   \n",
       "2000-03            0.0318                 0.0134        0.0069   \n",
       "2000-04           -0.0541                 0.0168       -0.0059   \n",
       "2000-05           -0.0433                 0.0062       -0.0034   \n",
       "\n",
       "         Fixed Income Arbitrage  Global Macro  Long/Short Equity  \\\n",
       "date                                                               \n",
       "2000-01                  0.0041        0.0021             0.0075   \n",
       "2000-02                  0.0097        0.0408             0.0699   \n",
       "2000-03                 -0.0061       -0.0104             0.0006   \n",
       "2000-04                 -0.0006       -0.0304            -0.0201   \n",
       "2000-05                  0.0107       -0.0070            -0.0097   \n",
       "\n",
       "         Merger Arbitrage  Relative Value  Short Selling  Funds Of Funds  \n",
       "date                                                                      \n",
       "2000-01            0.0143          0.0173         0.0427          0.0169  \n",
       "2000-02            0.0239          0.0185        -0.1340          0.0666  \n",
       "2000-03            0.0131          0.0163        -0.0230          0.0039  \n",
       "2000-04            0.0188          0.0092         0.1028         -0.0269  \n",
       "2000-05            0.0146          0.0080         0.0704         -0.0122  "
      ]
     },
     "execution_count": 16,
     "metadata": {},
     "output_type": "execute_result"
    }
   ],
   "source": [
    "hfi_data= ak.get_hfi_returns()\n",
    "hfi_data=hfi_data[\"2000\":]\n",
    "hfi_data.head()"
   ]
  },
  {
   "cell_type": "code",
   "execution_count": 17,
   "metadata": {},
   "outputs": [
    {
     "data": {
      "text/plain": [
       "0.03143017693928047"
      ]
     },
     "execution_count": 17,
     "metadata": {},
     "output_type": "execute_result"
    }
   ],
   "source": [
    "ak.var_gaussian(hfi_data[\"Distressed Securities\"], level=1)"
   ]
  },
  {
   "cell_type": "code",
   "execution_count": 18,
   "metadata": {},
   "outputs": [
    {
     "data": {
      "text/plain": [
       "0.04966909110627918"
      ]
     },
     "execution_count": 18,
     "metadata": {},
     "output_type": "execute_result"
    }
   ],
   "source": [
    "ak.var_corfish(hfi_data[\"Distressed Securities\"],level=1, modified=True)"
   ]
  },
  {
   "cell_type": "code",
   "execution_count": 19,
   "metadata": {},
   "outputs": [
    {
     "data": {
      "text/plain": [
       "0.042642"
      ]
     },
     "execution_count": 19,
     "metadata": {},
     "output_type": "execute_result"
    }
   ],
   "source": [
    "ak.var_historic(hfi_data[\"Distressed Securities\"],level=1)"
   ]
  },
  {
   "cell_type": "markdown",
   "metadata": {},
   "source": [
    "##### Next, load the 30 industry return data using the erk.get_ind_returns() function that we developed during the lab sessions. For purposes of the remaining questions, use data during the 5 year period 2013-2017 (both inclusive) to estimate the expected returns as well as the covariance matrix. To be able to respond to the questions, you will need to build the MSR, EW and GMV portfolios consisting of the “Books”, “Steel”, \"Oil\", and \"Mines\" industries. Assume the risk free rate over the 5 year period is 10%.\n",
    "\n",
    "##### What is the weight of Steel in the EW Portfolio? "
   ]
  },
  {
   "cell_type": "code",
   "execution_count": 31,
   "metadata": {},
   "outputs": [],
   "source": [
    "ind_returns= ak.get_ind_returns()\n",
    "ind_returns= ind_returns[\"2013\":\"2017\"]"
   ]
  },
  {
   "cell_type": "code",
   "execution_count": 33,
   "metadata": {},
   "outputs": [],
   "source": [
    "ind_names=[\"Books\",\"Steel\",\"Oil\",\"Mines\"]\n",
    "final_ind_rets=ind_data[ind_names]"
   ]
  },
  {
   "cell_type": "code",
   "execution_count": 34,
   "metadata": {},
   "outputs": [
    {
     "data": {
      "text/plain": [
       "Books    0.095312\n",
       "Steel    0.100716\n",
       "Oil      0.025275\n",
       "Mines    0.005136\n",
       "dtype: float64"
      ]
     },
     "execution_count": 34,
     "metadata": {},
     "output_type": "execute_result"
    }
   ],
   "source": [
    "er=ak.annualize_rets(final_ind_rets,12)\n",
    "er"
   ]
  },
  {
   "cell_type": "code",
   "execution_count": 37,
   "metadata": {},
   "outputs": [],
   "source": [
    "cov=final_ind_rets.cov()"
   ]
  },
  {
   "cell_type": "markdown",
   "metadata": {},
   "source": [
    "##### What is the weight of the largest component of the MSR portfolio?   "
   ]
  },
  {
   "cell_type": "code",
   "execution_count": 40,
   "metadata": {},
   "outputs": [
    {
     "data": {
      "text/plain": [
       "array([1.03528297e-14, 1.00000000e+00, 0.00000000e+00, 0.00000000e+00])"
      ]
     },
     "execution_count": 40,
     "metadata": {},
     "output_type": "execute_result"
    }
   ],
   "source": [
    "ak.msr(0.1, er, cov)"
   ]
  }
 ],
 "metadata": {
  "kernelspec": {
   "display_name": "Python 3",
   "language": "python",
   "name": "python3"
  },
  "language_info": {
   "codemirror_mode": {
    "name": "ipython",
    "version": 3
   },
   "file_extension": ".py",
   "mimetype": "text/x-python",
   "name": "python",
   "nbconvert_exporter": "python",
   "pygments_lexer": "ipython3",
   "version": "3.6.4"
  }
 },
 "nbformat": 4,
 "nbformat_minor": 2
}
