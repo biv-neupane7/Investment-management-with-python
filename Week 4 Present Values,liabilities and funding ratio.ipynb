{
 "cells": [
  {
   "cell_type": "code",
   "execution_count": 3,
   "metadata": {},
   "outputs": [],
   "source": [
    "import pandas as pd\n",
    "import analysis_kit as ak\n",
    "%load_ext autoreload\n",
    "%autoreload\n",
    "import numpy as np"
   ]
  },
  {
   "cell_type": "markdown",
   "metadata": {},
   "source": [
    "### Lets define a discount factor"
   ]
  },
  {
   "cell_type": "code",
   "execution_count": 7,
   "metadata": {},
   "outputs": [],
   "source": [
    "def discount_factor(t, r):\n",
    "    \"\"\"\n",
    "    Computes the price of a pure discount bond by taking in time (t) and int rates (r)\n",
    "\n",
    "    \"\"\"\n",
    "    \n",
    "    return 1/(1+r)**t"
   ]
  },
  {
   "cell_type": "code",
   "execution_count": 8,
   "metadata": {},
   "outputs": [
    {
     "data": {
      "text/plain": [
       "0.9259259259259258"
      ]
     },
     "execution_count": 8,
     "metadata": {},
     "output_type": "execute_result"
    }
   ],
   "source": [
    "discount_factor(1, 0.08) # This basically means: Given that its a pure disc bond which will given me $100 back after 1 year and the\n",
    "                    # current int  rate is 0.08, it costs or rather the price or PV of this bond is $ 92.59."
   ]
  },
  {
   "cell_type": "markdown",
   "metadata": {},
   "source": [
    "### Lets define the PV formula"
   ]
  },
  {
   "cell_type": "code",
   "execution_count": 14,
   "metadata": {},
   "outputs": [],
   "source": [
    "def pv(l,r):\n",
    "    \"\"\"\n",
    "    Computes the present value of a sequence of liabilities. \n",
    "    l is a indexed by the time, and the values are the amounts of each liability.\n",
    "    returns the pv of their sequence\n",
    "    \n",
    "    \"\"\"\n",
    "    \n",
    "    dates=l.index\n",
    "    discounts=discount_factor(dates, r)\n",
    "    return (discounts*l).sum()\n"
   ]
  },
  {
   "cell_type": "code",
   "execution_count": 10,
   "metadata": {},
   "outputs": [],
   "source": [
    "liabilities=pd.Series(data=[1,1.5, 2, 2.5], index=[3, 3.5 , 4 , 4.5]) # This basically means 1m is due in 3 years, 1.5 in \n",
    "                                                                        #3.5 years and so on "
   ]
  },
  {
   "cell_type": "code",
   "execution_count": 11,
   "metadata": {},
   "outputs": [
    {
     "data": {
      "text/plain": [
       "3.0    1.0\n",
       "3.5    1.5\n",
       "4.0    2.0\n",
       "4.5    2.5\n",
       "dtype: float64"
      ]
     },
     "execution_count": 11,
     "metadata": {},
     "output_type": "execute_result"
    }
   ],
   "source": [
    "liabilities"
   ]
  },
  {
   "cell_type": "markdown",
   "metadata": {},
   "source": [
    "### Now, I can answer this question: What are the PV of the liabilities given certain int rates ?"
   ]
  },
  {
   "cell_type": "code",
   "execution_count": 16,
   "metadata": {},
   "outputs": [
    {
     "data": {
      "text/plain": [
       "7.0"
      ]
     },
     "execution_count": 16,
     "metadata": {},
     "output_type": "execute_result"
    }
   ],
   "source": [
    "liabilities.sum()"
   ]
  },
  {
   "cell_type": "code",
   "execution_count": 15,
   "metadata": {},
   "outputs": [
    {
     "data": {
      "text/plain": [
       "6.233320315080044"
      ]
     },
     "execution_count": 15,
     "metadata": {},
     "output_type": "execute_result"
    }
   ],
   "source": [
    "pv(liabilities, 0.03) \n",
    "\n",
    "# Interpretation: What the result here means is that although the liabilities sum up to 7, when this $7 million is discounted \n",
    "# back to present terms, it reduces to $ 6.23 million."
   ]
  },
  {
   "cell_type": "markdown",
   "metadata": {},
   "source": [
    "### Funding ratio"
   ]
  },
  {
   "cell_type": "code",
   "execution_count": 17,
   "metadata": {},
   "outputs": [],
   "source": [
    "def funding_ratio(assets, liabilities, r):\n",
    "    \n",
    "    \"\"\"\n",
    "    Computes the funding ratio of some assets given liabilities and int rates.\n",
    "    \"\"\"\n",
    "    return assets/pv(liabilities, r)    "
   ]
  },
  {
   "cell_type": "markdown",
   "metadata": {},
   "source": [
    "### Lets compute FR"
   ]
  },
  {
   "cell_type": "code",
   "execution_count": 18,
   "metadata": {},
   "outputs": [
    {
     "data": {
      "text/plain": [
       "0.8021407126958778"
      ]
     },
     "execution_count": 18,
     "metadata": {},
     "output_type": "execute_result"
    }
   ],
   "source": [
    "funding_ratio(5, liabilities, 0.03)\n",
    "\n",
    "\n",
    "# Interpretation: This means we are only 80 % funded. IOW, the assets that we have right now can only cover 80% of the total \n",
    "# liabilities. At this rate, we cannot expect to meet the liabilities"
   ]
  },
  {
   "cell_type": "markdown",
   "metadata": {},
   "source": [
    "#### What if the interest rates go down? How will it affect our funding ratio?"
   ]
  },
  {
   "cell_type": "code",
   "execution_count": 21,
   "metadata": {},
   "outputs": [
    {
     "data": {
      "text/plain": [
       "0.7720304366941647"
      ]
     },
     "execution_count": 21,
     "metadata": {},
     "output_type": "execute_result"
    }
   ],
   "source": [
    "funding_ratio(5, liabilities, 0.02)\n",
    "\n",
    "# Funding ratio further decreases because the value of the liabilities have gone up now. OR put differently, the assets that\n",
    "# we already have will grow in a slower pace and therefore we will not be able to meet our liabilities as easily"
   ]
  },
  {
   "cell_type": "markdown",
   "metadata": {},
   "source": [
    "#### If int rates go up?"
   ]
  },
  {
   "cell_type": "code",
   "execution_count": 22,
   "metadata": {},
   "outputs": [
    {
     "data": {
      "text/plain": [
       "0.8649082768407929"
      ]
     },
     "execution_count": 22,
     "metadata": {},
     "output_type": "execute_result"
    }
   ],
   "source": [
    "funding_ratio(5, liabilities, 0.05)\n",
    "\n",
    "# The FR improves"
   ]
  },
  {
   "cell_type": "markdown",
   "metadata": {},
   "source": [
    "### Lets make it more interactive"
   ]
  },
  {
   "cell_type": "code",
   "execution_count": 23,
   "metadata": {},
   "outputs": [],
   "source": [
    "import ipywidgets as widgets\n",
    "from IPython.display import display\n",
    "%matplotlib inline"
   ]
  },
  {
   "cell_type": "code",
   "execution_count": 24,
   "metadata": {},
   "outputs": [
    {
     "data": {
      "application/vnd.jupyter.widget-view+json": {
       "model_id": "6fb31fbb4e4b405383125168c6730a06",
       "version_major": 2,
       "version_minor": 0
      },
      "text/html": [
       "<p>Failed to display Jupyter Widget of type <code>interactive</code>.</p>\n",
       "<p>\n",
       "  If you're reading this message in the Jupyter Notebook or JupyterLab Notebook, it may mean\n",
       "  that the widgets JavaScript is still loading. If this message persists, it\n",
       "  likely means that the widgets JavaScript library is either not installed or\n",
       "  not enabled. See the <a href=\"https://ipywidgets.readthedocs.io/en/stable/user_install.html\">Jupyter\n",
       "  Widgets Documentation</a> for setup instructions.\n",
       "</p>\n",
       "<p>\n",
       "  If you're reading this message in another frontend (for example, a static\n",
       "  rendering on GitHub or <a href=\"https://nbviewer.jupyter.org/\">NBViewer</a>),\n",
       "  it may mean that your frontend doesn't currently support widgets.\n",
       "</p>\n"
      ],
      "text/plain": [
       "interactive(children=(IntSlider(value=5, description='assets', max=10, min=1), FloatSlider(value=0.1, description='r', max=0.2, step=0.01), Output()), _dom_classes=('widget-interact',))"
      ]
     },
     "metadata": {},
     "output_type": "display_data"
    }
   ],
   "source": [
    "def show_funding_ratio(assets, r):\n",
    "    fr=funding_ratio(assets, liabilities,r)\n",
    "    print(f'{fr*100:.2f}')\n",
    "    \n",
    "controls=widgets.interactive(show_funding_ratio, \n",
    "                            assets=widgets.IntSlider(min=1, max=10, step=1, value=5),\n",
    "                            r=(0,0.2, 0.01))\n",
    "\n",
    "display(controls)"
   ]
  },
  {
   "cell_type": "code",
   "execution_count": null,
   "metadata": {},
   "outputs": [],
   "source": []
  },
  {
   "cell_type": "code",
   "execution_count": null,
   "metadata": {},
   "outputs": [],
   "source": []
  }
 ],
 "metadata": {
  "kernelspec": {
   "display_name": "Python 3",
   "language": "python",
   "name": "python3"
  },
  "language_info": {
   "codemirror_mode": {
    "name": "ipython",
    "version": 3
   },
   "file_extension": ".py",
   "mimetype": "text/x-python",
   "name": "python",
   "nbconvert_exporter": "python",
   "pygments_lexer": "ipython3",
   "version": "3.6.4"
  }
 },
 "nbformat": 4,
 "nbformat_minor": 2
}
